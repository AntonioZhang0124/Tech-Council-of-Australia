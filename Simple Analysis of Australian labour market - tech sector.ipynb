{
 "cells": [
  {
   "cell_type": "markdown",
   "id": "b2565701-2a45-4b88-9ddb-cedd966c9b30",
   "metadata": {},
   "source": [
    "<h1 align=\"center\" style=\"margin-top:10px\">Simple Analysis of the Current State of the Australian Labour Market</h1>\n",
    "<h2 align=\"center\" style=\"margin-top:20px\">(Tech Sector)</h2>"
   ]
  },
  {
   "cell_type": "markdown",
   "id": "cabea793-cb87-4663-84cb-cdb6b1dc3849",
   "metadata": {},
   "source": [
    "import pandas as pd\n",
    "import numpy as np\n",
    "import seaborn as sns\n",
    "import matplotlib.pyplot as plt\n",
    "import warnings\n",
    "warnings.filterwarnings('ignore') \n",
    "%matplotlib inline"
   ]
  },
  {
   "cell_type": "markdown",
   "id": "8f4ee516-e877-49cb-9668-f808f228460b",
   "metadata": {},
   "source": [
    "## 1. Load Data"
   ]
  },
  {
   "cell_type": "markdown",
   "id": "d9becb3f-a70e-4fb8-aeb8-d1c602d90a1c",
   "metadata": {},
   "source": [
    "Raw data were retrieved from https://lmip.gov.au/default.aspx?LMIP/Downloads/EmploymentRegion and have been slightly modified before uploading to Jupyter Notebook. Both cross-sectional and time series data are considered. The analysis of the current state of the Australian labour market focuses on tech employment geographical and demographic information. The trend analysis focuses on the period over last five years."
   ]
  },
  {
   "cell_type": "code",
   "execution_count": 2,
   "id": "6e013c64-e44e-46b2-b1e1-41c960a101a0",
   "metadata": {},
   "outputs": [
    {
     "data": {
      "text/html": [
       "<div>\n",
       "<style scoped>\n",
       "    .dataframe tbody tr th:only-of-type {\n",
       "        vertical-align: middle;\n",
       "    }\n",
       "\n",
       "    .dataframe tbody tr th {\n",
       "        vertical-align: top;\n",
       "    }\n",
       "\n",
       "    .dataframe thead th {\n",
       "        text-align: right;\n",
       "    }\n",
       "</style>\n",
       "<table border=\"1\" class=\"dataframe\">\n",
       "  <thead>\n",
       "    <tr style=\"text-align: right;\">\n",
       "      <th></th>\n",
       "      <th>Employment Region</th>\n",
       "      <th>State/Territory</th>\n",
       "      <th>Employment  - Total</th>\n",
       "      <th>Employed Full-Time</th>\n",
       "      <th>Employed Part-Time</th>\n",
       "      <th>Employed - Male</th>\n",
       "      <th>Employed - Female</th>\n",
       "      <th>Five year growth</th>\n",
       "      <th>Employment Distribution (%)</th>\n",
       "    </tr>\n",
       "  </thead>\n",
       "  <tbody>\n",
       "    <tr>\n",
       "      <th>0</th>\n",
       "      <td>Capital Region</td>\n",
       "      <td>NSW/ACT</td>\n",
       "      <td>39,800</td>\n",
       "      <td>32,200</td>\n",
       "      <td>7,600</td>\n",
       "      <td>22,600</td>\n",
       "      <td>17,200</td>\n",
       "      <td>8,100</td>\n",
       "      <td>11.7</td>\n",
       "    </tr>\n",
       "    <tr>\n",
       "      <th>1</th>\n",
       "      <td>Central West</td>\n",
       "      <td>NSW</td>\n",
       "      <td>5,600</td>\n",
       "      <td>4,200</td>\n",
       "      <td>1,500</td>\n",
       "      <td>2,400</td>\n",
       "      <td>3,200</td>\n",
       "      <td>700</td>\n",
       "      <td>4.9</td>\n",
       "    </tr>\n",
       "    <tr>\n",
       "      <th>2</th>\n",
       "      <td>Far West Orana</td>\n",
       "      <td>NSW</td>\n",
       "      <td>0</td>\n",
       "      <td>0</td>\n",
       "      <td>0</td>\n",
       "      <td>0</td>\n",
       "      <td>0</td>\n",
       "      <td>-700</td>\n",
       "      <td>0.0</td>\n",
       "    </tr>\n",
       "    <tr>\n",
       "      <th>3</th>\n",
       "      <td>Hunter</td>\n",
       "      <td>NSW</td>\n",
       "      <td>23,700</td>\n",
       "      <td>17,100</td>\n",
       "      <td>6,600</td>\n",
       "      <td>14,000</td>\n",
       "      <td>9,700</td>\n",
       "      <td>5,000</td>\n",
       "      <td>7.2</td>\n",
       "    </tr>\n",
       "    <tr>\n",
       "      <th>4</th>\n",
       "      <td>Illawarra South Coast</td>\n",
       "      <td>NSW</td>\n",
       "      <td>16,500</td>\n",
       "      <td>12,500</td>\n",
       "      <td>4,000</td>\n",
       "      <td>8,000</td>\n",
       "      <td>8,500</td>\n",
       "      <td>4,500</td>\n",
       "      <td>7.2</td>\n",
       "    </tr>\n",
       "  </tbody>\n",
       "</table>\n",
       "</div>"
      ],
      "text/plain": [
       "       Employment Region State/Territory Employment  - Total  \\\n",
       "0         Capital Region         NSW/ACT              39,800   \n",
       "1           Central West             NSW               5,600   \n",
       "2         Far West Orana             NSW                   0   \n",
       "3                 Hunter             NSW              23,700   \n",
       "4  Illawarra South Coast             NSW              16,500   \n",
       "\n",
       "  Employed Full-Time Employed Part-Time Employed - Male Employed - Female  \\\n",
       "0             32,200              7,600          22,600            17,200   \n",
       "1              4,200              1,500           2,400             3,200   \n",
       "2                  0                  0               0                 0   \n",
       "3             17,100              6,600          14,000             9,700   \n",
       "4             12,500              4,000           8,000             8,500   \n",
       "\n",
       "  Five year growth  Employment Distribution (%)  \n",
       "0            8,100                         11.7  \n",
       "1              700                          4.9  \n",
       "2             -700                          0.0  \n",
       "3            5,000                          7.2  \n",
       "4            4,500                          7.2  "
      ]
     },
     "execution_count": 2,
     "metadata": {},
     "output_type": "execute_result"
    }
   ],
   "source": [
    "data = pd.read_csv(\"ER Employment Tech Industry - November 2021.csv\")\n",
    "data.head()"
   ]
  },
  {
   "cell_type": "code",
   "execution_count": 3,
   "id": "9c3a593f-9596-4485-bde5-6f06dcace305",
   "metadata": {},
   "outputs": [
    {
     "data": {
      "text/html": [
       "<div>\n",
       "<style scoped>\n",
       "    .dataframe tbody tr th:only-of-type {\n",
       "        vertical-align: middle;\n",
       "    }\n",
       "\n",
       "    .dataframe tbody tr th {\n",
       "        vertical-align: top;\n",
       "    }\n",
       "\n",
       "    .dataframe thead th {\n",
       "        text-align: right;\n",
       "    }\n",
       "</style>\n",
       "<table border=\"1\" class=\"dataframe\">\n",
       "  <thead>\n",
       "    <tr style=\"text-align: right;\">\n",
       "      <th></th>\n",
       "      <th>Employment Region</th>\n",
       "      <th>State/Territory</th>\n",
       "      <th>Nov-21</th>\n",
       "      <th>Nov-20</th>\n",
       "      <th>Nov-16</th>\n",
       "    </tr>\n",
       "  </thead>\n",
       "  <tbody>\n",
       "    <tr>\n",
       "      <th>0</th>\n",
       "      <td>Capital Region</td>\n",
       "      <td>NSW/ACT</td>\n",
       "      <td>39,800</td>\n",
       "      <td>35,200</td>\n",
       "      <td>31,700</td>\n",
       "    </tr>\n",
       "    <tr>\n",
       "      <th>1</th>\n",
       "      <td>Central West</td>\n",
       "      <td>NSW</td>\n",
       "      <td>5,600</td>\n",
       "      <td>3,900</td>\n",
       "      <td>4,900</td>\n",
       "    </tr>\n",
       "    <tr>\n",
       "      <th>2</th>\n",
       "      <td>Far West Orana</td>\n",
       "      <td>NSW</td>\n",
       "      <td>0</td>\n",
       "      <td>2,400</td>\n",
       "      <td>700</td>\n",
       "    </tr>\n",
       "    <tr>\n",
       "      <th>3</th>\n",
       "      <td>Hunter</td>\n",
       "      <td>NSW</td>\n",
       "      <td>23,700</td>\n",
       "      <td>23,200</td>\n",
       "      <td>18,700</td>\n",
       "    </tr>\n",
       "    <tr>\n",
       "      <th>4</th>\n",
       "      <td>Illawarra South Coast</td>\n",
       "      <td>NSW</td>\n",
       "      <td>16,500</td>\n",
       "      <td>17,500</td>\n",
       "      <td>12,000</td>\n",
       "    </tr>\n",
       "  </tbody>\n",
       "</table>\n",
       "</div>"
      ],
      "text/plain": [
       "       Employment Region State/Territory  Nov-21  Nov-20  Nov-16\n",
       "0         Capital Region         NSW/ACT  39,800  35,200  31,700\n",
       "1           Central West             NSW   5,600   3,900   4,900\n",
       "2         Far West Orana             NSW       0   2,400     700\n",
       "3                 Hunter             NSW  23,700  23,200  18,700\n",
       "4  Illawarra South Coast             NSW  16,500  17,500  12,000"
      ]
     },
     "execution_count": 3,
     "metadata": {},
     "output_type": "execute_result"
    }
   ],
   "source": [
    "data_timeseries = pd.read_csv(\"ER Employment Tech Industry Time Series - November 2021.csv\")\n",
    "data_timeseries.head()"
   ]
  },
  {
   "cell_type": "markdown",
   "id": "12115239-eaf0-48e6-b461-ca3eb8ea4272",
   "metadata": {},
   "source": [
    "## 2. Basic Check"
   ]
  },
  {
   "cell_type": "code",
   "execution_count": 4,
   "id": "fc051955-3544-491e-99a5-29de168d0085",
   "metadata": {},
   "outputs": [
    {
     "name": "stdout",
     "output_type": "stream",
     "text": [
      "<class 'pandas.core.frame.DataFrame'>\n",
      "RangeIndex: 45 entries, 0 to 44\n",
      "Data columns (total 9 columns):\n",
      " #   Column                       Non-Null Count  Dtype  \n",
      "---  ------                       --------------  -----  \n",
      " 0   Employment Region            45 non-null     object \n",
      " 1   State/Territory              45 non-null     object \n",
      " 2   Employment  - Total          45 non-null     object \n",
      " 3   Employed Full-Time           45 non-null     object \n",
      " 4   Employed Part-Time           45 non-null     object \n",
      " 5   Employed - Male              45 non-null     object \n",
      " 6   Employed - Female            45 non-null     object \n",
      " 7   Five year growth             45 non-null     object \n",
      " 8   Employment Distribution (%)  45 non-null     float64\n",
      "dtypes: float64(1), object(8)\n",
      "memory usage: 3.3+ KB\n"
     ]
    }
   ],
   "source": [
    "#check non-null count and data type\n",
    "data.info()"
   ]
  },
  {
   "cell_type": "code",
   "execution_count": 5,
   "id": "f8a16ce1-232f-4463-99c1-209df67afece",
   "metadata": {},
   "outputs": [
    {
     "data": {
      "text/plain": [
       "Employment Region              45\n",
       "State/Territory                 8\n",
       "Employment  - Total            43\n",
       "Employed Full-Time             41\n",
       "Employed Part-Time             37\n",
       "Employed - Male                38\n",
       "Employed - Female              38\n",
       "Five year growth               40\n",
       "Employment Distribution (%)    40\n",
       "dtype: int64"
      ]
     },
     "execution_count": 5,
     "metadata": {},
     "output_type": "execute_result"
    }
   ],
   "source": [
    "#check unique data of each column\n",
    "data.nunique()"
   ]
  },
  {
   "cell_type": "code",
   "execution_count": 6,
   "id": "3df72c31-d2ca-4701-abb2-26f391f4b1af",
   "metadata": {},
   "outputs": [
    {
     "data": {
      "text/plain": [
       "Employment Region              0.0\n",
       "State/Territory                0.0\n",
       "Employment  - Total            0.0\n",
       "Employed Full-Time             0.0\n",
       "Employed Part-Time             0.0\n",
       "Employed - Male                0.0\n",
       "Employed - Female              0.0\n",
       "Five year growth               0.0\n",
       "Employment Distribution (%)    0.0\n",
       "dtype: float64"
      ]
     },
     "execution_count": 6,
     "metadata": {},
     "output_type": "execute_result"
    }
   ],
   "source": [
    "#check missing values\n",
    "data.isnull().sum().sort_values(ascending=False)/len(data)"
   ]
  },
  {
   "cell_type": "markdown",
   "id": "98dd3d12-6168-421e-b5c4-99c53720f34d",
   "metadata": {},
   "source": [
    "## 3. Exploratory Data Analysis (EDA)"
   ]
  },
  {
   "cell_type": "markdown",
   "id": "f92ba368-db56-4c4e-ac65-63e15f4751d5",
   "metadata": {},
   "source": [
    "### 3.1 Nongraphical Univariate"
   ]
  },
  {
   "cell_type": "code",
   "execution_count": 7,
   "id": "9347d765-7433-499d-b213-7db0851c7534",
   "metadata": {},
   "outputs": [],
   "source": [
    "#convert data from object to int64\n",
    "object_to_int64 = [\"Employment  - Total\", \"Employed Full-Time\", \"Employed Part-Time\", \n",
    "                   \"Employed - Male\", \"Employed - Female\", \"Five year growth\"]\n",
    "\n",
    "for i in object_to_int64:\n",
    "    data[i] = data[i].str.replace(',', '')\n",
    "    data[i] = data[i].astype(str).astype(int)"
   ]
  },
  {
   "cell_type": "code",
   "execution_count": 8,
   "id": "63ad3823-e430-4160-bfaf-6acd8aae3e84",
   "metadata": {},
   "outputs": [
    {
     "data": {
      "text/html": [
       "<div>\n",
       "<style scoped>\n",
       "    .dataframe tbody tr th:only-of-type {\n",
       "        vertical-align: middle;\n",
       "    }\n",
       "\n",
       "    .dataframe tbody tr th {\n",
       "        vertical-align: top;\n",
       "    }\n",
       "\n",
       "    .dataframe thead th {\n",
       "        text-align: right;\n",
       "    }\n",
       "</style>\n",
       "<table border=\"1\" class=\"dataframe\">\n",
       "  <thead>\n",
       "    <tr style=\"text-align: right;\">\n",
       "      <th></th>\n",
       "      <th>Employment  - Total</th>\n",
       "      <th>Employed Full-Time</th>\n",
       "      <th>Employed Part-Time</th>\n",
       "      <th>Employed - Male</th>\n",
       "      <th>Employed - Female</th>\n",
       "      <th>Five year growth</th>\n",
       "      <th>Employment Distribution (%)</th>\n",
       "    </tr>\n",
       "  </thead>\n",
       "  <tbody>\n",
       "    <tr>\n",
       "      <th>count</th>\n",
       "      <td>45.0000</td>\n",
       "      <td>45.0000</td>\n",
       "      <td>45.0000</td>\n",
       "      <td>45.0000</td>\n",
       "      <td>45.0000</td>\n",
       "      <td>45.0000</td>\n",
       "      <td>45.0000</td>\n",
       "    </tr>\n",
       "    <tr>\n",
       "      <th>mean</th>\n",
       "      <td>26755.5556</td>\n",
       "      <td>21017.7778</td>\n",
       "      <td>5728.8889</td>\n",
       "      <td>14877.7778</td>\n",
       "      <td>11877.7778</td>\n",
       "      <td>4460.0000</td>\n",
       "      <td>6.8378</td>\n",
       "    </tr>\n",
       "    <tr>\n",
       "      <th>std</th>\n",
       "      <td>37447.1237</td>\n",
       "      <td>30164.6790</td>\n",
       "      <td>7370.1370</td>\n",
       "      <td>20780.1467</td>\n",
       "      <td>16774.1669</td>\n",
       "      <td>7668.5130</td>\n",
       "      <td>3.5632</td>\n",
       "    </tr>\n",
       "    <tr>\n",
       "      <th>min</th>\n",
       "      <td>0.0000</td>\n",
       "      <td>0.0000</td>\n",
       "      <td>0.0000</td>\n",
       "      <td>0.0000</td>\n",
       "      <td>0.0000</td>\n",
       "      <td>-6300.0000</td>\n",
       "      <td>0.0000</td>\n",
       "    </tr>\n",
       "    <tr>\n",
       "      <th>25%</th>\n",
       "      <td>4700.0000</td>\n",
       "      <td>3100.0000</td>\n",
       "      <td>1400.0000</td>\n",
       "      <td>2400.0000</td>\n",
       "      <td>2400.0000</td>\n",
       "      <td>-100.0000</td>\n",
       "      <td>4.4000</td>\n",
       "    </tr>\n",
       "    <tr>\n",
       "      <th>50%</th>\n",
       "      <td>9700.0000</td>\n",
       "      <td>7000.0000</td>\n",
       "      <td>2600.0000</td>\n",
       "      <td>5300.0000</td>\n",
       "      <td>4600.0000</td>\n",
       "      <td>2000.0000</td>\n",
       "      <td>6.1000</td>\n",
       "    </tr>\n",
       "    <tr>\n",
       "      <th>75%</th>\n",
       "      <td>36900.0000</td>\n",
       "      <td>29400.0000</td>\n",
       "      <td>7600.0000</td>\n",
       "      <td>22500.0000</td>\n",
       "      <td>15600.0000</td>\n",
       "      <td>5000.0000</td>\n",
       "      <td>8.8000</td>\n",
       "    </tr>\n",
       "    <tr>\n",
       "      <th>max</th>\n",
       "      <td>165000.0000</td>\n",
       "      <td>132700.0000</td>\n",
       "      <td>32300.0000</td>\n",
       "      <td>88100.0000</td>\n",
       "      <td>78200.0000</td>\n",
       "      <td>29800.0000</td>\n",
       "      <td>17.4000</td>\n",
       "    </tr>\n",
       "    <tr>\n",
       "      <th>skewness</th>\n",
       "      <td>2.5136</td>\n",
       "      <td>2.5008</td>\n",
       "      <td>2.5008</td>\n",
       "      <td>2.3502</td>\n",
       "      <td>2.7123</td>\n",
       "      <td>1.8636</td>\n",
       "      <td>1.1139</td>\n",
       "    </tr>\n",
       "    <tr>\n",
       "      <th>kurtosis</th>\n",
       "      <td>6.6046</td>\n",
       "      <td>6.5006</td>\n",
       "      <td>6.6502</td>\n",
       "      <td>5.7290</td>\n",
       "      <td>7.7442</td>\n",
       "      <td>3.7204</td>\n",
       "      <td>1.7072</td>\n",
       "    </tr>\n",
       "  </tbody>\n",
       "</table>\n",
       "</div>"
      ],
      "text/plain": [
       "          Employment  - Total  Employed Full-Time  Employed Part-Time  \\\n",
       "count                 45.0000             45.0000             45.0000   \n",
       "mean               26755.5556          21017.7778           5728.8889   \n",
       "std                37447.1237          30164.6790           7370.1370   \n",
       "min                    0.0000              0.0000              0.0000   \n",
       "25%                 4700.0000           3100.0000           1400.0000   \n",
       "50%                 9700.0000           7000.0000           2600.0000   \n",
       "75%                36900.0000          29400.0000           7600.0000   \n",
       "max               165000.0000         132700.0000          32300.0000   \n",
       "skewness               2.5136              2.5008              2.5008   \n",
       "kurtosis               6.6046              6.5006              6.6502   \n",
       "\n",
       "          Employed - Male  Employed - Female  Five year growth  \\\n",
       "count             45.0000            45.0000           45.0000   \n",
       "mean           14877.7778         11877.7778         4460.0000   \n",
       "std            20780.1467         16774.1669         7668.5130   \n",
       "min                0.0000             0.0000        -6300.0000   \n",
       "25%             2400.0000          2400.0000         -100.0000   \n",
       "50%             5300.0000          4600.0000         2000.0000   \n",
       "75%            22500.0000         15600.0000         5000.0000   \n",
       "max            88100.0000         78200.0000        29800.0000   \n",
       "skewness           2.3502             2.7123            1.8636   \n",
       "kurtosis           5.7290             7.7442            3.7204   \n",
       "\n",
       "          Employment Distribution (%)  \n",
       "count                         45.0000  \n",
       "mean                           6.8378  \n",
       "std                            3.5632  \n",
       "min                            0.0000  \n",
       "25%                            4.4000  \n",
       "50%                            6.1000  \n",
       "75%                            8.8000  \n",
       "max                           17.4000  \n",
       "skewness                       1.1139  \n",
       "kurtosis                       1.7072  "
      ]
     },
     "execution_count": 8,
     "metadata": {},
     "output_type": "execute_result"
    }
   ],
   "source": [
    "#descriptive statistics\n",
    "from scipy.stats import skew\n",
    "from scipy.stats import kurtosis\n",
    "\n",
    "descriptive = data.describe()\n",
    "descriptive.loc['skewness', :] = data.skew()\n",
    "descriptive.loc['kurtosis', :] = data.kurt()\n",
    "descriptive.iloc[:,:7].round(4)"
   ]
  },
  {
   "cell_type": "markdown",
   "id": "c78c71d8-9c15-40ec-898e-129117b095d7",
   "metadata": {},
   "source": [
    "### 3.2 Graphical Univariate"
   ]
  },
  {
   "cell_type": "code",
   "execution_count": 9,
   "id": "ad95326d-e9d8-42e7-be89-108a6f2c83a8",
   "metadata": {},
   "outputs": [
    {
     "data": {
      "image/png": "[encoded data removed]",
      "text/plain": [
       "<Figure size 1800x432 with 7 Axes>"
      ]
     },
     "metadata": {
      "needs_background": "light"
     },
     "output_type": "display_data"
    }
   ],
   "source": [
    "#plot numerical features distributions\n",
    "employment_features = [\"Employment  - Total\", \"Employed Full-Time\", \"Employed Part-Time\", \n",
    "                       \"Employed - Male\", \"Employed - Female\", \"Five year growth\", \"Employment Distribution (%)\"]\n",
    "\n",
    "fig, ax = plt.subplots(1, len(employment_features), figsize=(25,6))\n",
    "colors = plt.rcParams['axes.prop_cycle']()\n",
    "\n",
    "for i, employment_feature in enumerate(data[employment_features]):\n",
    "    sns.histplot(data=data, x=employment_feature, kde=True, ax=ax[i], **next(colors))\n",
    "fig.suptitle(\"Numerical Features Distributions\", fontsize=16)\n",
    "plt.tight_layout()\n",
    "fig.show()"
   ]
  },
  {
   "cell_type": "markdown",
   "id": "82cb9174-41df-4aa7-abd1-a90fb19327cf",
   "metadata": {},
   "source": [
    "### 3.3 Nongraphical Multivariate"
   ]
  },
  {
   "cell_type": "code",
   "execution_count": 10,
   "id": "ac23852d-d6ac-4256-afb4-e820a6716ce7",
   "metadata": {},
   "outputs": [
    {
     "data": {
      "text/html": [
       "<div>\n",
       "<style scoped>\n",
       "    .dataframe tbody tr th:only-of-type {\n",
       "        vertical-align: middle;\n",
       "    }\n",
       "\n",
       "    .dataframe tbody tr th {\n",
       "        vertical-align: top;\n",
       "    }\n",
       "\n",
       "    .dataframe thead th {\n",
       "        text-align: right;\n",
       "    }\n",
       "</style>\n",
       "<table border=\"1\" class=\"dataframe\">\n",
       "  <thead>\n",
       "    <tr style=\"text-align: right;\">\n",
       "      <th></th>\n",
       "      <th>Employment  - Total</th>\n",
       "    </tr>\n",
       "    <tr>\n",
       "      <th>State/Territory</th>\n",
       "      <th></th>\n",
       "    </tr>\n",
       "  </thead>\n",
       "  <tbody>\n",
       "    <tr>\n",
       "      <th>NSW</th>\n",
       "      <td>428000</td>\n",
       "    </tr>\n",
       "    <tr>\n",
       "      <th>NSW/ACT</th>\n",
       "      <td>39800</td>\n",
       "    </tr>\n",
       "    <tr>\n",
       "      <th>NT</th>\n",
       "      <td>5100</td>\n",
       "    </tr>\n",
       "    <tr>\n",
       "      <th>QLD</th>\n",
       "      <td>202200</td>\n",
       "    </tr>\n",
       "    <tr>\n",
       "      <th>SA</th>\n",
       "      <td>66100</td>\n",
       "    </tr>\n",
       "    <tr>\n",
       "      <th>TAS</th>\n",
       "      <td>15800</td>\n",
       "    </tr>\n",
       "    <tr>\n",
       "      <th>VIC</th>\n",
       "      <td>345200</td>\n",
       "    </tr>\n",
       "    <tr>\n",
       "      <th>WA</th>\n",
       "      <td>101800</td>\n",
       "    </tr>\n",
       "  </tbody>\n",
       "</table>\n",
       "</div>"
      ],
      "text/plain": [
       "                 Employment  - Total\n",
       "State/Territory                     \n",
       "NSW                           428000\n",
       "NSW/ACT                        39800\n",
       "NT                              5100\n",
       "QLD                           202200\n",
       "SA                             66100\n",
       "TAS                            15800\n",
       "VIC                           345200\n",
       "WA                            101800"
      ]
     },
     "execution_count": 10,
     "metadata": {},
     "output_type": "execute_result"
    }
   ],
   "source": [
    "#total employment by state or territory\n",
    "total_employment = data[[\"State/Territory\", \"Employment  - Total\"]]\n",
    "total_employment.groupby([\"State/Territory\"]).sum()"
   ]
  },
  {
   "cell_type": "code",
   "execution_count": 11,
   "id": "e67d6b75-539e-41d0-bb87-d39a84a0a354",
   "metadata": {},
   "outputs": [
    {
     "data": {
      "text/html": [
       "<div>\n",
       "<style scoped>\n",
       "    .dataframe tbody tr th:only-of-type {\n",
       "        vertical-align: middle;\n",
       "    }\n",
       "\n",
       "    .dataframe tbody tr th {\n",
       "        vertical-align: top;\n",
       "    }\n",
       "\n",
       "    .dataframe thead th {\n",
       "        text-align: right;\n",
       "    }\n",
       "</style>\n",
       "<table border=\"1\" class=\"dataframe\">\n",
       "  <thead>\n",
       "    <tr style=\"text-align: right;\">\n",
       "      <th></th>\n",
       "      <th>Employed Full-Time</th>\n",
       "      <th>Employed Part-Time</th>\n",
       "    </tr>\n",
       "    <tr>\n",
       "      <th>State/Territory</th>\n",
       "      <th></th>\n",
       "      <th></th>\n",
       "    </tr>\n",
       "  </thead>\n",
       "  <tbody>\n",
       "    <tr>\n",
       "      <th>NSW</th>\n",
       "      <td>342700</td>\n",
       "      <td>85400</td>\n",
       "    </tr>\n",
       "    <tr>\n",
       "      <th>NSW/ACT</th>\n",
       "      <td>32200</td>\n",
       "      <td>7600</td>\n",
       "    </tr>\n",
       "    <tr>\n",
       "      <th>NT</th>\n",
       "      <td>4200</td>\n",
       "      <td>900</td>\n",
       "    </tr>\n",
       "    <tr>\n",
       "      <th>QLD</th>\n",
       "      <td>158100</td>\n",
       "      <td>43900</td>\n",
       "    </tr>\n",
       "    <tr>\n",
       "      <th>SA</th>\n",
       "      <td>50400</td>\n",
       "      <td>15700</td>\n",
       "    </tr>\n",
       "    <tr>\n",
       "      <th>TAS</th>\n",
       "      <td>11300</td>\n",
       "      <td>4400</td>\n",
       "    </tr>\n",
       "    <tr>\n",
       "      <th>VIC</th>\n",
       "      <td>271000</td>\n",
       "      <td>74100</td>\n",
       "    </tr>\n",
       "    <tr>\n",
       "      <th>WA</th>\n",
       "      <td>75900</td>\n",
       "      <td>25800</td>\n",
       "    </tr>\n",
       "  </tbody>\n",
       "</table>\n",
       "</div>"
      ],
      "text/plain": [
       "                 Employed Full-Time  Employed Part-Time\n",
       "State/Territory                                        \n",
       "NSW                          342700               85400\n",
       "NSW/ACT                       32200                7600\n",
       "NT                             4200                 900\n",
       "QLD                          158100               43900\n",
       "SA                            50400               15700\n",
       "TAS                           11300                4400\n",
       "VIC                          271000               74100\n",
       "WA                            75900               25800"
      ]
     },
     "execution_count": 11,
     "metadata": {},
     "output_type": "execute_result"
    }
   ],
   "source": [
    "#employment type: full-time vs part-time by state or territory\n",
    "data_employmenttype = data[[\"State/Territory\", \"Employed Full-Time\", \"Employed Part-Time\"]]\n",
    "data_employmenttype.groupby([\"State/Territory\"]).sum()"
   ]
  },
  {
   "cell_type": "code",
   "execution_count": 12,
   "id": "10377fd2-dff2-4f26-bfe1-26800f178052",
   "metadata": {},
   "outputs": [
    {
     "data": {
      "text/html": [
       "<div>\n",
       "<style scoped>\n",
       "    .dataframe tbody tr th:only-of-type {\n",
       "        vertical-align: middle;\n",
       "    }\n",
       "\n",
       "    .dataframe tbody tr th {\n",
       "        vertical-align: top;\n",
       "    }\n",
       "\n",
       "    .dataframe thead th {\n",
       "        text-align: right;\n",
       "    }\n",
       "</style>\n",
       "<table border=\"1\" class=\"dataframe\">\n",
       "  <thead>\n",
       "    <tr style=\"text-align: right;\">\n",
       "      <th></th>\n",
       "      <th>Employed - Male</th>\n",
       "      <th>Employed - Female</th>\n",
       "    </tr>\n",
       "    <tr>\n",
       "      <th>State/Territory</th>\n",
       "      <th></th>\n",
       "      <th></th>\n",
       "    </tr>\n",
       "  </thead>\n",
       "  <tbody>\n",
       "    <tr>\n",
       "      <th>NSW</th>\n",
       "      <td>234800</td>\n",
       "      <td>193000</td>\n",
       "    </tr>\n",
       "    <tr>\n",
       "      <th>NSW/ACT</th>\n",
       "      <td>22600</td>\n",
       "      <td>17200</td>\n",
       "    </tr>\n",
       "    <tr>\n",
       "      <th>NT</th>\n",
       "      <td>2700</td>\n",
       "      <td>2400</td>\n",
       "    </tr>\n",
       "    <tr>\n",
       "      <th>QLD</th>\n",
       "      <td>108700</td>\n",
       "      <td>93500</td>\n",
       "    </tr>\n",
       "    <tr>\n",
       "      <th>SA</th>\n",
       "      <td>38300</td>\n",
       "      <td>27800</td>\n",
       "    </tr>\n",
       "    <tr>\n",
       "      <th>TAS</th>\n",
       "      <td>8800</td>\n",
       "      <td>7000</td>\n",
       "    </tr>\n",
       "    <tr>\n",
       "      <th>VIC</th>\n",
       "      <td>193200</td>\n",
       "      <td>152200</td>\n",
       "    </tr>\n",
       "    <tr>\n",
       "      <th>WA</th>\n",
       "      <td>60400</td>\n",
       "      <td>41400</td>\n",
       "    </tr>\n",
       "  </tbody>\n",
       "</table>\n",
       "</div>"
      ],
      "text/plain": [
       "                 Employed - Male  Employed - Female\n",
       "State/Territory                                    \n",
       "NSW                       234800             193000\n",
       "NSW/ACT                    22600              17200\n",
       "NT                          2700               2400\n",
       "QLD                       108700              93500\n",
       "SA                         38300              27800\n",
       "TAS                         8800               7000\n",
       "VIC                       193200             152200\n",
       "WA                         60400              41400"
      ]
     },
     "execution_count": 12,
     "metadata": {},
     "output_type": "execute_result"
    }
   ],
   "source": [
    "#gender: male vs female by state or territory\n",
    "data_gender = data[[\"State/Territory\", \"Employed - Male\", \"Employed - Female\"]]\n",
    "data_gender.groupby([\"State/Territory\"]).sum()"
   ]
  },
  {
   "cell_type": "code",
   "execution_count": 13,
   "id": "5aa35f28-a70a-4b30-99a6-8016bfa5ad7d",
   "metadata": {},
   "outputs": [
    {
     "data": {
      "text/html": [
       "<div>\n",
       "<style scoped>\n",
       "    .dataframe tbody tr th:only-of-type {\n",
       "        vertical-align: middle;\n",
       "    }\n",
       "\n",
       "    .dataframe tbody tr th {\n",
       "        vertical-align: top;\n",
       "    }\n",
       "\n",
       "    .dataframe thead th {\n",
       "        text-align: right;\n",
       "    }\n",
       "</style>\n",
       "<table border=\"1\" class=\"dataframe\">\n",
       "  <thead>\n",
       "    <tr style=\"text-align: right;\">\n",
       "      <th></th>\n",
       "      <th>Five year growth</th>\n",
       "    </tr>\n",
       "    <tr>\n",
       "      <th>State/Territory</th>\n",
       "      <th></th>\n",
       "    </tr>\n",
       "  </thead>\n",
       "  <tbody>\n",
       "    <tr>\n",
       "      <th>NSW</th>\n",
       "      <td>70800</td>\n",
       "    </tr>\n",
       "    <tr>\n",
       "      <th>NSW/ACT</th>\n",
       "      <td>8100</td>\n",
       "    </tr>\n",
       "    <tr>\n",
       "      <th>NT</th>\n",
       "      <td>-500</td>\n",
       "    </tr>\n",
       "    <tr>\n",
       "      <th>QLD</th>\n",
       "      <td>25300</td>\n",
       "    </tr>\n",
       "    <tr>\n",
       "      <th>SA</th>\n",
       "      <td>11600</td>\n",
       "    </tr>\n",
       "    <tr>\n",
       "      <th>TAS</th>\n",
       "      <td>4400</td>\n",
       "    </tr>\n",
       "    <tr>\n",
       "      <th>VIC</th>\n",
       "      <td>74900</td>\n",
       "    </tr>\n",
       "    <tr>\n",
       "      <th>WA</th>\n",
       "      <td>6100</td>\n",
       "    </tr>\n",
       "  </tbody>\n",
       "</table>\n",
       "</div>"
      ],
      "text/plain": [
       "                 Five year growth\n",
       "State/Territory                  \n",
       "NSW                         70800\n",
       "NSW/ACT                      8100\n",
       "NT                           -500\n",
       "QLD                         25300\n",
       "SA                          11600\n",
       "TAS                          4400\n",
       "VIC                         74900\n",
       "WA                           6100"
      ]
     },
     "execution_count": 13,
     "metadata": {},
     "output_type": "execute_result"
    }
   ],
   "source": [
    "#five-year growth by state or territory\n",
    "employment_growth = data[[\"State/Territory\", \"Five year growth\"]]\n",
    "employment_growth.groupby([\"State/Territory\"]).sum()"
   ]
  },
  {
   "cell_type": "code",
   "execution_count": 14,
   "id": "244700d3-9640-456b-aa99-4fffdbbb365c",
   "metadata": {},
   "outputs": [
    {
     "data": {
      "text/html": [
       "<div>\n",
       "<style scoped>\n",
       "    .dataframe tbody tr th:only-of-type {\n",
       "        vertical-align: middle;\n",
       "    }\n",
       "\n",
       "    .dataframe tbody tr th {\n",
       "        vertical-align: top;\n",
       "    }\n",
       "\n",
       "    .dataframe thead th {\n",
       "        text-align: right;\n",
       "    }\n",
       "</style>\n",
       "<table border=\"1\" class=\"dataframe\">\n",
       "  <thead>\n",
       "    <tr style=\"text-align: right;\">\n",
       "      <th></th>\n",
       "      <th>Employment Distribution (%)</th>\n",
       "    </tr>\n",
       "    <tr>\n",
       "      <th>State/Territory</th>\n",
       "      <th></th>\n",
       "    </tr>\n",
       "  </thead>\n",
       "  <tbody>\n",
       "    <tr>\n",
       "      <th>NSW</th>\n",
       "      <td>77.2</td>\n",
       "    </tr>\n",
       "    <tr>\n",
       "      <th>NSW/ACT</th>\n",
       "      <td>11.7</td>\n",
       "    </tr>\n",
       "    <tr>\n",
       "      <th>NT</th>\n",
       "      <td>6.2</td>\n",
       "    </tr>\n",
       "    <tr>\n",
       "      <th>QLD</th>\n",
       "      <td>66.1</td>\n",
       "    </tr>\n",
       "    <tr>\n",
       "      <th>SA</th>\n",
       "      <td>24.5</td>\n",
       "    </tr>\n",
       "    <tr>\n",
       "      <th>TAS</th>\n",
       "      <td>12.0</td>\n",
       "    </tr>\n",
       "    <tr>\n",
       "      <th>VIC</th>\n",
       "      <td>84.1</td>\n",
       "    </tr>\n",
       "    <tr>\n",
       "      <th>WA</th>\n",
       "      <td>25.9</td>\n",
       "    </tr>\n",
       "  </tbody>\n",
       "</table>\n",
       "</div>"
      ],
      "text/plain": [
       "                 Employment Distribution (%)\n",
       "State/Territory                             \n",
       "NSW                                     77.2\n",
       "NSW/ACT                                 11.7\n",
       "NT                                       6.2\n",
       "QLD                                     66.1\n",
       "SA                                      24.5\n",
       "TAS                                     12.0\n",
       "VIC                                     84.1\n",
       "WA                                      25.9"
      ]
     },
     "execution_count": 14,
     "metadata": {},
     "output_type": "execute_result"
    }
   ],
   "source": [
    "#employment distribution by state or territory\n",
    "employment_distribution = data[[\"State/Territory\", \"Employment Distribution (%)\"]]\n",
    "employment_distribution.groupby([\"State/Territory\"]).sum()"
   ]
  },
  {
   "cell_type": "markdown",
   "id": "4e619ee3-190c-4338-a912-abb691758780",
   "metadata": {},
   "source": [
    "### 3.4 Graphical Multivariate"
   ]
  },
  {
   "cell_type": "code",
   "execution_count": 15,
   "id": "dc94ee79-42c3-4146-a348-f861e1bf122b",
   "metadata": {},
   "outputs": [
    {
     "data": {
      "image/png": "[encoded data removed]",
      "text/plain": [
       "<Figure size 360x360 with 1 Axes>"
      ]
     },
     "metadata": {},
     "output_type": "display_data"
    }
   ],
   "source": [
    "#total employment by employment type\n",
    "employmenttype_total = data_employmenttype.groupby([\"State/Territory\"]).sum().sum()\n",
    "employmenttype_total = pd.DataFrame(employmenttype_total).set_axis([\"Total employment\"], axis=1, inplace=False)\n",
    "explode = (0.1, 0)\n",
    "plot = employmenttype_total.plot.pie(y=\"Total employment\", explode=explode, colors = [\"orange\", \"yellow\"], figsize=(5, 5))\n",
    "plt.title(\"Employment type\", fontsize=16)\n",
    "plt.show()"
   ]
  },
  {
   "cell_type": "code",
   "execution_count": 16,
   "id": "b5f39954-cdfd-4608-a648-fff4e040874b",
   "metadata": {},
   "outputs": [
    {
     "data": {
      "image/png": "[encoded data removed]",
      "text/plain": [
       "<Figure size 360x360 with 1 Axes>"
      ]
     },
     "metadata": {},
     "output_type": "display_data"
    }
   ],
   "source": [
    "#total employment by gender\n",
    "gender_total = data_gender.groupby([\"State/Territory\"]).sum().sum()\n",
    "gender_total = pd.DataFrame(gender_total).set_axis([\"Total employment\"], axis=1, inplace=False)\n",
    "explode = (0.1, 0)\n",
    "plot = gender_total.plot.pie(y=\"Total employment\", explode=explode, colors = [\"skyblue\", \"pink\"], figsize=(5, 5))\n",
    "plt.title(\"Gender\", fontsize=16)\n",
    "plt.show()"
   ]
  },
  {
   "cell_type": "code",
   "execution_count": 17,
   "id": "a62070e6-3567-45ec-a3dd-4d3b786b014f",
   "metadata": {},
   "outputs": [
    {
     "data": {
      "image/png": "[encoded data removed]",
      "text/plain": [
       "<Figure size 1800x432 with 2 Axes>"
      ]
     },
     "metadata": {},
     "output_type": "display_data"
    }
   ],
   "source": [
    "#total employment and employment distribution by state or territory\n",
    "rest_features = [\"State/Territory\", \"Employment  - Total\", \"Employment Distribution (%)\"]\n",
    "\n",
    "rest = data[rest_features]\n",
    "rest = rest.groupby([\"State/Territory\"]).sum()\n",
    "\n",
    "fig, ax = plt.subplots(1, len(rest_features[1:]), figsize=(25,6))\n",
    "cmap = plt.get_cmap(\"tab20c\")\n",
    "colors = cmap(np.arange(8))\n",
    "for i, rest_feature in enumerate(rest[rest_features[1:]]):\n",
    "    rest.plot(kind='pie', y=rest_feature, ax=ax[i], explode=(0.1, 0.1, 0.1, 0.1, 0.1, 0.1, 0.1, 0.1), labels=None, colors=colors, autopct='%1.2f%%')\n",
    "\n",
    "fig.suptitle(\"Percentages of Total Employment and Employment Distribution by State or Territory\", fontsize=16)\n",
    "plt.tight_layout()\n",
    "fig.show()"
   ]
  },
  {
   "cell_type": "markdown",
   "id": "fea7c7df-a428-4555-89f5-f0bde870aa50",
   "metadata": {},
   "source": [
    "Given all the nongraphical and graphical exploratory data analysis above, it is evident to find that (1) the number of employed full-time positions are far greater than that of employed part-time counterparts; (2) the number of male employees is slightly greater than female; (3)in terms of total employment quantities and censored employment distribution, New South Wales and Victoria shared the largest cake in Australian tech industry (Nov-2021)."
   ]
  },
  {
   "cell_type": "markdown",
   "id": "ff48ca50-b06c-4d25-a7ef-b9c8856484d1",
   "metadata": {},
   "source": [
    "## 4. Feature Engineering"
   ]
  },
  {
   "cell_type": "code",
   "execution_count": 18,
   "id": "47898e02-ca6d-40ef-b4b8-be04a2811a37",
   "metadata": {},
   "outputs": [
    {
     "data": {
      "text/html": [
       "<div>\n",
       "<style scoped>\n",
       "    .dataframe tbody tr th:only-of-type {\n",
       "        vertical-align: middle;\n",
       "    }\n",
       "\n",
       "    .dataframe tbody tr th {\n",
       "        vertical-align: top;\n",
       "    }\n",
       "\n",
       "    .dataframe thead th {\n",
       "        text-align: right;\n",
       "    }\n",
       "</style>\n",
       "<table border=\"1\" class=\"dataframe\">\n",
       "  <thead>\n",
       "    <tr style=\"text-align: right;\">\n",
       "      <th></th>\n",
       "      <th>Employment Region</th>\n",
       "      <th>State/Territory</th>\n",
       "      <th>Nov-21</th>\n",
       "      <th>Nov-20</th>\n",
       "      <th>Nov-16</th>\n",
       "    </tr>\n",
       "  </thead>\n",
       "  <tbody>\n",
       "    <tr>\n",
       "      <th>0</th>\n",
       "      <td>Capital Region</td>\n",
       "      <td>NSW/ACT</td>\n",
       "      <td>39,800</td>\n",
       "      <td>35,200</td>\n",
       "      <td>31,700</td>\n",
       "    </tr>\n",
       "    <tr>\n",
       "      <th>1</th>\n",
       "      <td>Central West</td>\n",
       "      <td>NSW</td>\n",
       "      <td>5,600</td>\n",
       "      <td>3,900</td>\n",
       "      <td>4,900</td>\n",
       "    </tr>\n",
       "    <tr>\n",
       "      <th>2</th>\n",
       "      <td>Far West Orana</td>\n",
       "      <td>NSW</td>\n",
       "      <td>0</td>\n",
       "      <td>2,400</td>\n",
       "      <td>700</td>\n",
       "    </tr>\n",
       "    <tr>\n",
       "      <th>3</th>\n",
       "      <td>Hunter</td>\n",
       "      <td>NSW</td>\n",
       "      <td>23,700</td>\n",
       "      <td>23,200</td>\n",
       "      <td>18,700</td>\n",
       "    </tr>\n",
       "    <tr>\n",
       "      <th>4</th>\n",
       "      <td>Illawarra South Coast</td>\n",
       "      <td>NSW</td>\n",
       "      <td>16,500</td>\n",
       "      <td>17,500</td>\n",
       "      <td>12,000</td>\n",
       "    </tr>\n",
       "  </tbody>\n",
       "</table>\n",
       "</div>"
      ],
      "text/plain": [
       "       Employment Region State/Territory  Nov-21  Nov-20  Nov-16\n",
       "0         Capital Region         NSW/ACT  39,800  35,200  31,700\n",
       "1           Central West             NSW   5,600   3,900   4,900\n",
       "2         Far West Orana             NSW       0   2,400     700\n",
       "3                 Hunter             NSW  23,700  23,200  18,700\n",
       "4  Illawarra South Coast             NSW  16,500  17,500  12,000"
      ]
     },
     "execution_count": 18,
     "metadata": {},
     "output_type": "execute_result"
    }
   ],
   "source": [
    "#now focus time series data\n",
    "data_timeseries = pd.read_csv(\"ER Employment Tech Industry Time Series - November 2021.csv\")\n",
    "data_timeseries.head()"
   ]
  },
  {
   "cell_type": "code",
   "execution_count": 19,
   "id": "258634f7-6db8-4ffd-9e50-adb947a7f66e",
   "metadata": {},
   "outputs": [
    {
     "name": "stdout",
     "output_type": "stream",
     "text": [
      "<class 'pandas.core.frame.DataFrame'>\n",
      "RangeIndex: 46 entries, 0 to 45\n",
      "Data columns (total 5 columns):\n",
      " #   Column             Non-Null Count  Dtype \n",
      "---  ------             --------------  ----- \n",
      " 0   Employment Region  46 non-null     object\n",
      " 1   State/Territory    46 non-null     object\n",
      " 2   Nov-21             46 non-null     object\n",
      " 3   Nov-20             46 non-null     object\n",
      " 4   Nov-16             46 non-null     object\n",
      "dtypes: object(5)\n",
      "memory usage: 1.9+ KB\n"
     ]
    }
   ],
   "source": [
    "#basic check\n",
    "data_timeseries.info()"
   ]
  },
  {
   "cell_type": "code",
   "execution_count": 20,
   "id": "4c9afd8d-e2cd-4045-846e-b5f9be9e9a04",
   "metadata": {},
   "outputs": [
    {
     "name": "stdout",
     "output_type": "stream",
     "text": [
      "<class 'pandas.core.frame.DataFrame'>\n",
      "RangeIndex: 46 entries, 0 to 45\n",
      "Data columns (total 5 columns):\n",
      " #   Column             Non-Null Count  Dtype \n",
      "---  ------             --------------  ----- \n",
      " 0   Employment Region  46 non-null     object\n",
      " 1   State/Territory    46 non-null     object\n",
      " 2   Nov-21             46 non-null     int64 \n",
      " 3   Nov-20             46 non-null     int64 \n",
      " 4   Nov-16             46 non-null     int64 \n",
      "dtypes: int64(3), object(2)\n",
      "memory usage: 1.9+ KB\n"
     ]
    }
   ],
   "source": [
    "#convert data from object to int64\n",
    "object_to_int64 = [\"Nov-21\", \"Nov-20\", \"Nov-16\"]\n",
    "\n",
    "for i in object_to_int64:\n",
    "    data_timeseries[i] = data_timeseries[i].str.replace(',', '')\n",
    "    data_timeseries[i] = data_timeseries[i].astype(str).astype(int)\n",
    "data_timeseries.info()"
   ]
  },
  {
   "cell_type": "code",
   "execution_count": 21,
   "id": "8eaa3338-0806-4972-be00-c200f4b090de",
   "metadata": {},
   "outputs": [
    {
     "data": {
      "text/html": [
       "<div>\n",
       "<style scoped>\n",
       "    .dataframe tbody tr th:only-of-type {\n",
       "        vertical-align: middle;\n",
       "    }\n",
       "\n",
       "    .dataframe tbody tr th {\n",
       "        vertical-align: top;\n",
       "    }\n",
       "\n",
       "    .dataframe thead th {\n",
       "        text-align: right;\n",
       "    }\n",
       "</style>\n",
       "<table border=\"1\" class=\"dataframe\">\n",
       "  <thead>\n",
       "    <tr style=\"text-align: right;\">\n",
       "      <th></th>\n",
       "      <th>Nov-16</th>\n",
       "      <th>Nov-20</th>\n",
       "      <th>Nov-21</th>\n",
       "    </tr>\n",
       "    <tr>\n",
       "      <th>State/Territory</th>\n",
       "      <th></th>\n",
       "      <th></th>\n",
       "      <th></th>\n",
       "    </tr>\n",
       "  </thead>\n",
       "  <tbody>\n",
       "    <tr>\n",
       "      <th>AUST</th>\n",
       "      <td>1017700</td>\n",
       "      <td>1182300</td>\n",
       "      <td>1226600</td>\n",
       "    </tr>\n",
       "    <tr>\n",
       "      <th>NSW</th>\n",
       "      <td>357200</td>\n",
       "      <td>398600</td>\n",
       "      <td>428000</td>\n",
       "    </tr>\n",
       "    <tr>\n",
       "      <th>NSW/ACT</th>\n",
       "      <td>31700</td>\n",
       "      <td>35200</td>\n",
       "      <td>39800</td>\n",
       "    </tr>\n",
       "    <tr>\n",
       "      <th>NT</th>\n",
       "      <td>5600</td>\n",
       "      <td>5500</td>\n",
       "      <td>5100</td>\n",
       "    </tr>\n",
       "    <tr>\n",
       "      <th>QLD</th>\n",
       "      <td>176900</td>\n",
       "      <td>188300</td>\n",
       "      <td>202200</td>\n",
       "    </tr>\n",
       "    <tr>\n",
       "      <th>SA</th>\n",
       "      <td>54500</td>\n",
       "      <td>57600</td>\n",
       "      <td>66100</td>\n",
       "    </tr>\n",
       "    <tr>\n",
       "      <th>TAS</th>\n",
       "      <td>11400</td>\n",
       "      <td>16200</td>\n",
       "      <td>15800</td>\n",
       "    </tr>\n",
       "    <tr>\n",
       "      <th>VIC</th>\n",
       "      <td>270300</td>\n",
       "      <td>322600</td>\n",
       "      <td>345200</td>\n",
       "    </tr>\n",
       "    <tr>\n",
       "      <th>WA</th>\n",
       "      <td>95700</td>\n",
       "      <td>103800</td>\n",
       "      <td>101800</td>\n",
       "    </tr>\n",
       "  </tbody>\n",
       "</table>\n",
       "</div>"
      ],
      "text/plain": [
       "                  Nov-16   Nov-20   Nov-21\n",
       "State/Territory                           \n",
       "AUST             1017700  1182300  1226600\n",
       "NSW               357200   398600   428000\n",
       "NSW/ACT            31700    35200    39800\n",
       "NT                  5600     5500     5100\n",
       "QLD               176900   188300   202200\n",
       "SA                 54500    57600    66100\n",
       "TAS                11400    16200    15800\n",
       "VIC               270300   322600   345200\n",
       "WA                 95700   103800   101800"
      ]
     },
     "execution_count": 21,
     "metadata": {},
     "output_type": "execute_result"
    }
   ],
   "source": [
    "trend_data = data_timeseries[[\"State/Territory\", \"Nov-16\", \"Nov-20\", \"Nov-21\"]]\n",
    "trend_data = trend_data.groupby([\"State/Territory\"]).sum()\n",
    "trend_data"
   ]
  },
  {
   "cell_type": "code",
   "execution_count": 22,
   "id": "e478e64c-bfe3-406e-a956-31129d44a1e2",
   "metadata": {},
   "outputs": [
    {
     "data": {
      "text/html": [
       "<div>\n",
       "<style scoped>\n",
       "    .dataframe tbody tr th:only-of-type {\n",
       "        vertical-align: middle;\n",
       "    }\n",
       "\n",
       "    .dataframe tbody tr th {\n",
       "        vertical-align: top;\n",
       "    }\n",
       "\n",
       "    .dataframe thead th {\n",
       "        text-align: right;\n",
       "    }\n",
       "</style>\n",
       "<table border=\"1\" class=\"dataframe\">\n",
       "  <thead>\n",
       "    <tr style=\"text-align: right;\">\n",
       "      <th></th>\n",
       "      <th>Nov-16</th>\n",
       "      <th>Nov-17</th>\n",
       "      <th>Nov-18</th>\n",
       "      <th>Nov-19</th>\n",
       "      <th>Nov-20</th>\n",
       "      <th>Nov-21</th>\n",
       "    </tr>\n",
       "    <tr>\n",
       "      <th>State/Territory</th>\n",
       "      <th></th>\n",
       "      <th></th>\n",
       "      <th></th>\n",
       "      <th></th>\n",
       "      <th></th>\n",
       "      <th></th>\n",
       "    </tr>\n",
       "  </thead>\n",
       "  <tbody>\n",
       "    <tr>\n",
       "      <th>AUST</th>\n",
       "      <td>1017700</td>\n",
       "      <td>1058850.0</td>\n",
       "      <td>1100000.0</td>\n",
       "      <td>1141150.0</td>\n",
       "      <td>1182300</td>\n",
       "      <td>1226600</td>\n",
       "    </tr>\n",
       "    <tr>\n",
       "      <th>NSW</th>\n",
       "      <td>357200</td>\n",
       "      <td>367550.0</td>\n",
       "      <td>377900.0</td>\n",
       "      <td>388250.0</td>\n",
       "      <td>398600</td>\n",
       "      <td>428000</td>\n",
       "    </tr>\n",
       "    <tr>\n",
       "      <th>NSW/ACT</th>\n",
       "      <td>31700</td>\n",
       "      <td>32575.0</td>\n",
       "      <td>33450.0</td>\n",
       "      <td>34325.0</td>\n",
       "      <td>35200</td>\n",
       "      <td>39800</td>\n",
       "    </tr>\n",
       "    <tr>\n",
       "      <th>NT</th>\n",
       "      <td>5600</td>\n",
       "      <td>5575.0</td>\n",
       "      <td>5550.0</td>\n",
       "      <td>5525.0</td>\n",
       "      <td>5500</td>\n",
       "      <td>5100</td>\n",
       "    </tr>\n",
       "    <tr>\n",
       "      <th>QLD</th>\n",
       "      <td>176900</td>\n",
       "      <td>179750.0</td>\n",
       "      <td>182600.0</td>\n",
       "      <td>185450.0</td>\n",
       "      <td>188300</td>\n",
       "      <td>202200</td>\n",
       "    </tr>\n",
       "  </tbody>\n",
       "</table>\n",
       "</div>"
      ],
      "text/plain": [
       "                  Nov-16     Nov-17     Nov-18     Nov-19   Nov-20   Nov-21\n",
       "State/Territory                                                            \n",
       "AUST             1017700  1058850.0  1100000.0  1141150.0  1182300  1226600\n",
       "NSW               357200   367550.0   377900.0   388250.0   398600   428000\n",
       "NSW/ACT            31700    32575.0    33450.0    34325.0    35200    39800\n",
       "NT                  5600     5575.0     5550.0     5525.0     5500     5100\n",
       "QLD               176900   179750.0   182600.0   185450.0   188300   202200"
      ]
     },
     "execution_count": 22,
     "metadata": {},
     "output_type": "execute_result"
    }
   ],
   "source": [
    "#interpolate data between Nov-16 and Nov-20\n",
    "trend_data[\"Nov-17\"] = (trend_data[\"Nov-20\"] - trend_data[\"Nov-16\"])/4 + trend_data[\"Nov-16\"]\n",
    "trend_data[\"Nov-18\"] = (trend_data[\"Nov-20\"] - trend_data[\"Nov-16\"])/4*2 + trend_data[\"Nov-16\"]\n",
    "trend_data[\"Nov-19\"] = (trend_data[\"Nov-20\"] - trend_data[\"Nov-16\"])/4*3 + trend_data[\"Nov-16\"]\n",
    "trend_data = trend_data[[\"Nov-16\", \"Nov-17\", \"Nov-18\", \"Nov-19\", \"Nov-20\", \"Nov-21\"]]\n",
    "trend_data.head()"
   ]
  },
  {
   "cell_type": "code",
   "execution_count": 23,
   "id": "b3750b9e-297e-48a4-8344-d9dd4f2cd458",
   "metadata": {},
   "outputs": [
    {
     "data": {
      "image/png": "[encoded data removed]",
      "text/plain": [
       "<Figure size 1152x648 with 1 Axes>"
      ]
     },
     "metadata": {
      "needs_background": "light"
     },
     "output_type": "display_data"
    }
   ],
   "source": [
    "#plot trend data\n",
    "plt.figure(figsize=(16,9))\n",
    "plt.plot(trend_data.iloc[0], label=trend_data.index[0], marker='o')\n",
    "plt.plot(trend_data.iloc[1], label=trend_data.index[1], marker='o')\n",
    "plt.plot(trend_data.iloc[2], label=trend_data.index[2], marker='o')\n",
    "plt.plot(trend_data.iloc[3], label=trend_data.index[3], marker='o')\n",
    "plt.plot(trend_data.iloc[4], label=trend_data.index[4], marker='o')\n",
    "plt.plot(trend_data.iloc[5], label=trend_data.index[5], marker='o')\n",
    "plt.plot(trend_data.iloc[6], label=trend_data.index[6], marker='o')\n",
    "plt.plot(trend_data.iloc[7], label=trend_data.index[7], marker='o')\n",
    "plt.plot(trend_data.iloc[8], label=trend_data.index[8], marker='o')\n",
    "plt.title(\"Employment Trends over Past Five Years\")\n",
    "plt.legend()\n",
    "plt.show()"
   ]
  },
  {
   "cell_type": "markdown",
   "id": "be9561de-dbd1-484f-a52d-c14abfdcf559",
   "metadata": {},
   "source": [
    "## 4. Model Building and Model Prediction"
   ]
  },
  {
   "cell_type": "markdown",
   "id": "6bb14f99-9702-45f6-8dcf-2149f4ce78eb",
   "metadata": {},
   "source": [
    "Given limited time series data, moving average or advanced time series predictive model has not been considered this time. Instead, simple linear regression will be used to provide a simple prediction result about the future of the Australian labour market that is relevant to the tech sector."
   ]
  },
  {
   "cell_type": "code",
   "execution_count": 24,
   "id": "4d86a669-2ddd-4121-91e7-09f610e15362",
   "metadata": {},
   "outputs": [
    {
     "name": "stdout",
     "output_type": "stream",
     "text": [
      "coefficient of determination: 0.999844005477141\n",
      "predicted response:\n",
      "[1017100. 1058700. 1100300. 1141900. 1183500. 1225100.]\n"
     ]
    }
   ],
   "source": [
    "#simple linear regression on total employment\n",
    "import numpy as np\n",
    "from sklearn.linear_model import LinearRegression\n",
    "\n",
    "X = np.array([1, 2, 3, 4, 5, 6]).reshape((-1, 1))\n",
    "y = trend_data.iloc[0].values\n",
    "\n",
    "model = LinearRegression()\n",
    "model.fit(X, y)\n",
    "\n",
    "r_sq = model.score(X, y)\n",
    "print('coefficient of determination:', r_sq)\n",
    "\n",
    "y_pred = model.predict(X)\n",
    "print('predicted response:', y_pred, sep='\\n')"
   ]
  },
  {
   "cell_type": "code",
   "execution_count": 25,
   "id": "7618e133-fe00-4cd1-ab3c-a53e1c27fb0a",
   "metadata": {},
   "outputs": [
    {
     "name": "stdout",
     "output_type": "stream",
     "text": [
      "Nov-22 Prediction:  [1266700.]\n"
     ]
    }
   ],
   "source": [
    "x_new = np.array([7]).reshape((-1, 1))\n",
    "y_new = model.predict(x_new)\n",
    "print(\"Nov-22 Prediction: \", y_new)"
   ]
  },
  {
   "cell_type": "markdown",
   "id": "b6f5fdb7-dbc7-4a09-898e-2c4cb0620db0",
   "metadata": {},
   "source": [
    "By applying simple linear regression model, the prediction of total employment on November 2022 is 1266700."
   ]
  },
  {
   "cell_type": "code",
   "execution_count": null,
   "id": "95c7b405-aa6d-4d00-8f06-a440d1f693cc",
   "metadata": {},
   "outputs": [],
   "source": []
  }
 ],
 "metadata": {
  "kernelspec": {
   "display_name": "Python 3",
   "language": "python",
   "name": "python3"
  },
  "language_info": {
   "codemirror_mode": {
    "name": "ipython",
    "version": 3
   },
   "file_extension": ".py",
   "mimetype": "text/x-python",
   "name": "python",
   "nbconvert_exporter": "python",
   "pygments_lexer": "ipython3",
   "version": "3.8.2"
  }
 },
 "nbformat": 4,
 "nbformat_minor": 5
}
